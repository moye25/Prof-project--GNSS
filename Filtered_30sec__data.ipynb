{
  "nbformat": 4,
  "nbformat_minor": 0,
  "metadata": {
    "colab": {
      "provenance": [],
      "authorship_tag": "ABX9TyMD8gUied7cLXk6WolzElc8",
      "include_colab_link": true
    },
    "kernelspec": {
      "name": "python3",
      "display_name": "Python 3"
    },
    "language_info": {
      "name": "python"
    }
  },
  "cells": [
    {
      "cell_type": "markdown",
      "metadata": {
        "id": "view-in-github",
        "colab_type": "text"
      },
      "source": [
        "<a href=\"https://colab.research.google.com/github/moye25/Prof-project--GNSS/blob/main/Filtered_30sec__data.ipynb\" target=\"_parent\"><img src=\"https://colab.research.google.com/assets/colab-badge.svg\" alt=\"Open In Colab\"/></a>"
      ]
    },
    {
      "cell_type": "code",
      "execution_count": null,
      "metadata": {
        "id": "AfmgUXhJdFkd"
      },
      "outputs": [],
      "source": [
        "import pandas as pd\n",
        "\n",
        "# Load your CSV file\n",
        "df = pd.read_csv(\"/content/redmi_5th_april_GPS_L1_snr_values.csv\", parse_dates=['Timestamp'])  # replace with your actual filename and timestamp column\n",
        "\n",
        "# Make sure the timestamp column is in datetime format\n",
        "df['Timestamp'] = pd.to_datetime(df['Timestamp'])\n",
        "\n",
        "# Filter rows where the seconds part is 0 or 30\n",
        "filtered_df = df[df['Timestamp'].dt.second.isin([0, 30])]\n",
        "\n",
        "# Optional: save the filtered result to a new CSV\n",
        "filtered_df.to_csv(\"filtered_SNR_30s_intervals_redmi_gps_l1_april_5th.csv\", index=False)\n"
      ]
    },
    {
      "cell_type": "code",
      "source": [
        "import pandas as pd\n",
        "\n",
        "# Load your CSV file\n",
        "df = pd.read_csv(\"/content/Samsung_GPS_L1_5th_april_snr_values(1).csv\", parse_dates=['Timestamp'])  # replace with your actual filename and timestamp column\n",
        "\n",
        "# Make sure the timestamp column is in datetime format\n",
        "df['Timestamp'] = pd.to_datetime(df['Timestamp'])\n",
        "\n",
        "# Filter rows where the seconds part is 0 or 30\n",
        "filtered_df = df[df['Timestamp'].dt.second.isin([0, 30])]\n",
        "\n",
        "# Optional: save the filtered result to a new CSV\n",
        "filtered_df.to_csv(\"filtered_SNR_30s_intervals_samsung_gps_l1_april_5th.csv\", index=False)\n"
      ],
      "metadata": {
        "id": "KWXeFt8WdwWM"
      },
      "execution_count": null,
      "outputs": []
    }
  ]
}